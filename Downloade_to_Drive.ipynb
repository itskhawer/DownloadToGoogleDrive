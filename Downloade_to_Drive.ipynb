{
  "nbformat": 4,
  "nbformat_minor": 0,
  "metadata": {
    "colab": {
      "provenance": [],
      "authorship_tag": "ABX9TyOaU4W7Zn5Gym+SzOqlXt9H",
      "include_colab_link": true
    },
    "kernelspec": {
      "name": "python3",
      "display_name": "Python 3"
    },
    "language_info": {
      "name": "python"
    }
  },
  "cells": [
    {
      "cell_type": "markdown",
      "metadata": {
        "id": "view-in-github",
        "colab_type": "text"
      },
      "source": [
        "<a href=\"https://colab.research.google.com/github/itskhawer/DownloadToGoogleDrive/blob/main/Downloade_to_Drive.ipynb\" target=\"_parent\"><img src=\"https://colab.research.google.com/assets/colab-badge.svg\" alt=\"Open In Colab\"/></a>"
      ]
    },
    {
      "cell_type": "code",
      "execution_count": null,
      "metadata": {
        "colab": {
          "base_uri": "https://localhost:8080/"
        },
        "id": "lsGMU4t_vVFJ",
        "outputId": "a92d0067-a114-43a2-cb56-b74da0380b05",
        "collapsed": true
      },
      "outputs": [
        {
          "name": "stdout",
          "output_type": "stream",
          "text": [
            "Mounted at /content/drive\n",
            "Enter the URL of the file to download: https://archive.org/download/princess-bride/Princess%20Bride.rar\n"
          ]
        },
        {
          "output_type": "stream",
          "name": "stderr",
          "text": [
            "Downloading: 100%|██████████| 1.01G/1.01G [05:58<00:00, 2.81MB/s]\n"
          ]
        },
        {
          "output_type": "stream",
          "name": "stdout",
          "text": [
            "File downloaded successfully!\n",
            "File moved to destination folder successfully!\n"
          ]
        }
      ],
      "source": [
        "import os\n",
        "import requests\n",
        "import shutil\n",
        "from tqdm import tqdm\n",
        "from google.colab import drive\n",
        "\n",
        "# Mount Google Drive\n",
        "drive.mount('/content/drive')\n",
        "\n",
        "def download_file(url, temp_save_path):\n",
        "    \"\"\"\n",
        "    Downloads a file from the given URL to a temporary location.\n",
        "\n",
        "    :param url: URL of the file to download\n",
        "    :param temp_save_path: Temporary file save location\n",
        "    :return: None\n",
        "    \"\"\"\n",
        "    try:\n",
        "        # Send a GET request to the URL\n",
        "        response = requests.get(url, stream=True)\n",
        "        response.raise_for_status()  # Raise an exception for bad status codes\n",
        "\n",
        "        # Get the total file size\n",
        "        file_size = int(response.headers.get('content-length', 0))\n",
        "\n",
        "        # Initialize the progress bar\n",
        "        progress_bar = tqdm(total=file_size, unit='B', unit_scale=True, desc=\"Downloading\")\n",
        "\n",
        "        # Write content to the temporary file\n",
        "        with open(temp_save_path, 'wb') as file:\n",
        "            for chunk in response.iter_content(chunk_size=1024):\n",
        "                if chunk:  # Skip empty chunks\n",
        "                    file.write(chunk)\n",
        "                    progress_bar.update(len(chunk))\n",
        "\n",
        "        progress_bar.close()\n",
        "        print(\"File downloaded successfully!\")\n",
        "    except requests.exceptions.RequestException as err:\n",
        "        print(f\"Error during download: {err}\")\n",
        "        raise\n",
        "\n",
        "def move_file(temp_save_path, final_save_path):\n",
        "    \"\"\"\n",
        "    Moves a file from a temporary location to the final destination.\n",
        "\n",
        "    :param temp_save_path: Path of the temporarily saved file\n",
        "    :param final_save_path: Final file save location\n",
        "    :return: None\n",
        "    \"\"\"\n",
        "    try:\n",
        "        # Ensure the destination folder exists\n",
        "        os.makedirs(os.path.dirname(final_save_path), exist_ok=True)\n",
        "\n",
        "        # Move the file\n",
        "        shutil.move(temp_save_path, final_save_path)\n",
        "        print(\"File moved to destination folder successfully!\")\n",
        "    except Exception as err:\n",
        "        print(\"Failed to move the file to the destination folder.\")\n",
        "        print(f\"Error details: {err}\")\n",
        "        raise\n",
        "\n",
        "def main():\n",
        "    \"\"\"Main function to handle the download and file move operations.\"\"\"\n",
        "    try:\n",
        "        # Get user input\n",
        "        url = input(\"Enter the URL of the file to download: \").strip()\n",
        "        filename = os.path.basename(url)\n",
        "\n",
        "        # Define paths\n",
        "        temp_save_path = f\"/content/{filename}\"\n",
        "        final_save_path = f\"/content/drive/MyDrive/Download/{filename}\"\n",
        "\n",
        "        # Download and move the file\n",
        "        download_file(url, temp_save_path)\n",
        "        move_file(temp_save_path, final_save_path)\n",
        "\n",
        "    except Exception as e:\n",
        "        print(f\"An error occurred: {e}\")\n",
        "\n",
        "if __name__ == \"__main__\":\n",
        "    main()\n"
      ]
    },
    {
      "cell_type": "code",
      "source": [],
      "metadata": {
        "id": "t0m74u5SvdUt"
      },
      "execution_count": null,
      "outputs": []
    }
  ]
}